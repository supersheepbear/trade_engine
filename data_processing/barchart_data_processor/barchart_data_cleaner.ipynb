{
 "cells": [
  {
   "cell_type": "code",
   "execution_count": 2,
   "metadata": {},
   "outputs": [],
   "source": [
    "import datetime\n",
    "import time\n",
    "import numpy as np\n",
    "import pandas as pd\n",
    "import logging\n",
    "import glob\n",
    "import os\n",
    "%matplotlib inline"
   ]
  },
  {
   "cell_type": "code",
   "execution_count": 3,
   "metadata": {},
   "outputs": [],
   "source": [
    "logging.basicConfig(level=logging.INFO, format='%(asctime)s - %(name)s - %(levelname)s - %(message)s')\n",
    "logger = logging.getLogger(\"barchart\")\n",
    "handler = logging.FileHandler('barchart_data_cleaner.log')\n",
    "formatter = logging.Formatter('%(asctime)s - %(name)s - %(levelname)s - %(message)s')\n",
    "handler.setFormatter(formatter)\n",
    "logger.addHandler(handler)"
   ]
  },
  {
   "cell_type": "code",
   "execution_count": 4,
   "metadata": {},
   "outputs": [],
   "source": [
    "def timestamp_barchart_to_est(barchart_timestamp_str):\n",
    "    \"\"\"\n",
    "    barchart historical timestamp data format is \"2008-05-05T13:42:01-04:00\",\n",
    "    which means year-month-dateThour:minute:second-timezonedelta\n",
    "    This function transform the string to a est datetime format object\n",
    "    \"\"\"\n",
    "    original_time_str = barchart_timestamp_str.rsplit(\"-\", 1)[0]\n",
    "    utc_zone_hours = int(barchart_timestamp_str.rsplit(\"-\", 1)[1][1])\n",
    "    original_time = datetime.datetime.strptime(original_time_str, \"%Y-%m-%dT%H:%M:%S\")\n",
    "    est_delta_hours = 5 - utc_zone_hours\n",
    "    est_time = original_time + datetime.timedelta(hours=est_delta_hours)\n",
    "    return est_time"
   ]
  },
  {
   "cell_type": "code",
   "execution_count": 44,
   "metadata": {},
   "outputs": [],
   "source": [
    "def generate_barchart_clean_dataframe(raw_df):\n",
    "    \"\"\"\n",
    "    Given a raw dataframe from barchart, generate clean dataframes from raw data frame.\n",
    "    \"\"\"\n",
    "    clean_df = raw_df.copy(deep=True)\n",
    "    clean_df.loc[:, \"timestamp\"] = raw_df.loc[:, \"timestamp\"].apply(timestamp_barchart_to_est)\n",
    "    clean_df = clean_df.set_index(\"timestamp\", drop=True)\n",
    "    clean_df.drop('tradingDay', axis=1, inplace=True)\n",
    "    clean_df.head()\n",
    "    all_timestamps = pd.date_range(start=clean_df.index[0], end=clean_df.index[-1], freq='1Min')\n",
    "    clean_df = clean_df.reindex(all_timestamps)\n",
    "    clean_df.loc[:, \"volume\"] = clean_df.loc[:, \"volume\"].fillna(np.int(0)).astype(np.int32)\n",
    "    clean_df = clean_df.ffill()\n",
    "    return clean_df"
   ]
  },
  {
   "cell_type": "code",
   "execution_count": 6,
   "metadata": {},
   "outputs": [],
   "source": [
    "raw_data_folder = r\"D:\\data\\barchart_1min_future_raw\""
   ]
  },
  {
   "cell_type": "code",
   "execution_count": 7,
   "metadata": {},
   "outputs": [],
   "source": [
    "clean_data_folder = r\"D:\\data\\barchart_1min_future_clean\""
   ]
  },
  {
   "cell_type": "code",
   "execution_count": 8,
   "metadata": {},
   "outputs": [],
   "source": [
    "raw_data_path_list = [f for f in glob.glob(raw_data_folder + \"\\*.csv\", recursive=True)]"
   ]
  },
  {
   "cell_type": "code",
   "execution_count": null,
   "metadata": {},
   "outputs": [],
   "source": [
    "for raw_data_path in raw_data_path_list:\n",
    "    raw_df = pd.read_csv(raw_data_path, dtype={\"volume\": np.int32})\n",
    "    clean_df = generate_barchart_clean_dataframe(raw_df)\n",
    "    clean_df.to_csv(os.path.join(clean_data_folder, os.path.basename(raw_data_path) + \".csv\"),\n",
    "                    index_label=\"timestamp\",\n",
    "                    float_format=\"%.4f\")"
   ]
  },
  {
   "cell_type": "code",
   "execution_count": null,
   "metadata": {},
   "outputs": [],
   "source": []
  }
 ],
 "metadata": {
  "kernelspec": {
   "display_name": "Python [conda env:py36]",
   "language": "python",
   "name": "conda-env-py36-py"
  },
  "language_info": {
   "codemirror_mode": {
    "name": "ipython",
    "version": 3
   },
   "file_extension": ".py",
   "mimetype": "text/x-python",
   "name": "python",
   "nbconvert_exporter": "python",
   "pygments_lexer": "ipython3",
   "version": "3.6.7"
  }
 },
 "nbformat": 4,
 "nbformat_minor": 4
}
