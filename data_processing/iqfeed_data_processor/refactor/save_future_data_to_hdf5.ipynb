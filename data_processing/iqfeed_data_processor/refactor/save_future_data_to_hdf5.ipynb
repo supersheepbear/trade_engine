{
 "cells": [
  {
   "cell_type": "code",
   "execution_count": 1,
   "metadata": {},
   "outputs": [],
   "source": [
    "import pandas as pd\n",
    "import glob\n",
    "import os\n",
    "import time\n",
    "from pathlib import Path"
   ]
  },
  {
   "cell_type": "code",
   "execution_count": 2,
   "metadata": {},
   "outputs": [],
   "source": [
    "future_data_store = pd.HDFStore('future_1min_continuous.h5')"
   ]
  },
  {
   "cell_type": "code",
   "execution_count": 3,
   "metadata": {},
   "outputs": [],
   "source": [
    "one_min_continuous_folder = r\"D:\\data\\vnpy\\future\\1_min_continuous\""
   ]
  },
  {
   "cell_type": "code",
   "execution_count": 4,
   "metadata": {},
   "outputs": [],
   "source": [
    "future_paths = glob.glob(os.path.join(one_min_continuous_folder, \"*.csv\"))"
   ]
  },
  {
   "cell_type": "code",
   "execution_count": 5,
   "metadata": {},
   "outputs": [
    {
     "name": "stdout",
     "output_type": "stream",
     "text": [
      "Saving D:\\data\\vnpy\\future\\1_min_continuous\\AUD.csv\n",
      "time used for saving to hdf5 is 63.89649748802185 sec\n",
      "Saving D:\\data\\vnpy\\future\\1_min_continuous\\CAD.csv\n",
      "time used for saving to hdf5 is 25.852941513061523 sec\n",
      "Saving D:\\data\\vnpy\\future\\1_min_continuous\\CC.csv\n",
      "time used for saving to hdf5 is 11.371337652206421 sec\n",
      "Saving D:\\data\\vnpy\\future\\1_min_continuous\\CL.csv\n",
      "time used for saving to hdf5 is 59.27033543586731 sec\n",
      "Saving D:\\data\\vnpy\\future\\1_min_continuous\\CT.csv\n",
      "time used for saving to hdf5 is 14.168397665023804 sec\n",
      "Saving D:\\data\\vnpy\\future\\1_min_continuous\\ES.csv\n",
      "time used for saving to hdf5 is 59.97564077377319 sec\n",
      "Saving D:\\data\\vnpy\\future\\1_min_continuous\\EUR.csv\n",
      "time used for saving to hdf5 is 57.428046464920044 sec\n",
      "Saving D:\\data\\vnpy\\future\\1_min_continuous\\GBP.csv\n",
      "time used for saving to hdf5 is 64.78129577636719 sec\n",
      "Saving D:\\data\\vnpy\\future\\1_min_continuous\\GC.csv\n",
      "time used for saving to hdf5 is 59.832350730895996 sec\n",
      "Saving D:\\data\\vnpy\\future\\1_min_continuous\\JPY.csv\n",
      "time used for saving to hdf5 is 64.09740686416626 sec\n",
      "Saving D:\\data\\vnpy\\future\\1_min_continuous\\KC.csv\n",
      "time used for saving to hdf5 is 24.980358123779297 sec\n",
      "Saving D:\\data\\vnpy\\future\\1_min_continuous\\M2K.csv\n",
      "time used for saving to hdf5 is 3.8762125968933105 sec\n",
      "Saving D:\\data\\vnpy\\future\\1_min_continuous\\MES.csv\n",
      "time used for saving to hdf5 is 3.8756723403930664 sec\n",
      "Saving D:\\data\\vnpy\\future\\1_min_continuous\\MGC.csv\n",
      "time used for saving to hdf5 is 47.71696472167969 sec\n",
      "Saving D:\\data\\vnpy\\future\\1_min_continuous\\MNQ.csv\n",
      "time used for saving to hdf5 is 3.976625442504883 sec\n",
      "Saving D:\\data\\vnpy\\future\\1_min_continuous\\MYM.csv\n",
      "time used for saving to hdf5 is 3.8977904319763184 sec\n",
      "Saving D:\\data\\vnpy\\future\\1_min_continuous\\QM.csv\n",
      "time used for saving to hdf5 is 56.513179063797 sec\n",
      "Saving D:\\data\\vnpy\\future\\1_min_continuous\\SB.csv\n",
      "time used for saving to hdf5 is 32.32971000671387 sec\n"
     ]
    }
   ],
   "source": [
    "for path in future_paths:\n",
    "    print(\"Saving {}\".format(path))\n",
    "    frame = pd.read_csv(path)\n",
    "    frame.columns = [\"datetime\", 'open', 'high', 'low', 'close', 'volume',\n",
    "                     'exchange', 'open_interest', 'interval', 'symbol', 'accumulative_adjust']\n",
    "    \n",
    "    float_columns = ['open', 'high', 'low', 'close', 'volume', 'open_interest']\n",
    "    for col in float_columns:\n",
    "        frame.loc[:, col] = frame[col].astype('float')\n",
    "    frame.loc[:, \"datetime\"] = pd.to_datetime(frame['datetime'], format='%Y%m%d %H:%M:%S')\n",
    "    frame.set_index(\"datetime\", drop=True, inplace=True)\n",
    "    symbol = Path(path).stem\n",
    "    start_time = time.time()\n",
    "    future_data_store.append(symbol, frame, format='table', data_columns=list(frame.columns))\n",
    "    end_time = time.time()\n",
    "    print(\"time used for saving to hdf5 is {} sec\".format(end_time - start_time))"
   ]
  },
  {
   "cell_type": "code",
   "execution_count": 6,
   "metadata": {},
   "outputs": [],
   "source": [
    "future_data_store.close()"
   ]
  },
  {
   "cell_type": "code",
   "execution_count": 7,
   "metadata": {},
   "outputs": [
    {
     "name": "stdout",
     "output_type": "stream",
     "text": [
      "time used for reading hdf5 is 10.197111368179321 sec\n"
     ]
    }
   ],
   "source": [
    "start_time = time.time()\n",
    "future_data_store = pd.HDFStore('future_1min_continuous.h5')\n",
    "frame = future_data_store[\"MGC\"]\n",
    "end_time = time.time()\n",
    "print(\"time used for reading hdf5 is {} sec\".format(end_time - start_time))"
   ]
  },
  {
   "cell_type": "code",
   "execution_count": 8,
   "metadata": {},
   "outputs": [
    {
     "name": "stdout",
     "output_type": "stream",
     "text": [
      "time used for reading csv is 12.583791732788086 sec\n"
     ]
    }
   ],
   "source": [
    "start_time = time.time()\n",
    "frame1 = pd.read_csv(r\"D:\\data\\vnpy\\future\\1_min_continuous\\MGC.csv\")\n",
    "frame1.columns = [\"datetime\", 'open', 'high', 'low', 'close', 'volume',\n",
    "                 'exchange', 'open_interest', 'interval', 'symbol', 'accumulative_adjust']\n",
    "\n",
    "float_columns = ['open', 'high', 'low', 'close', 'volume', 'open_interest']\n",
    "for col in float_columns:\n",
    "    frame1.loc[:, col] = frame1[col].astype('float')\n",
    "frame1.loc[:, \"datetime\"] = pd.to_datetime(frame1['datetime'], format='%Y%m%d %H:%M:%S')\n",
    "frame1.set_index(\"datetime\", drop=True, inplace=True)\n",
    "end_time = time.time()\n",
    "print(\"time used for reading csv is {} sec\".format(end_time - start_time))"
   ]
  },
  {
   "cell_type": "code",
   "execution_count": 16,
   "metadata": {},
   "outputs": [
    {
     "data": {
      "text/plain": [
       "True"
      ]
     },
     "execution_count": 16,
     "metadata": {},
     "output_type": "execute_result"
    }
   ],
   "source": [
    "frame.equals(frame1)"
   ]
  }
 ],
 "metadata": {
  "kernelspec": {
   "display_name": "Python [conda env:py36]",
   "language": "python",
   "name": "conda-env-py36-py"
  },
  "language_info": {
   "codemirror_mode": {
    "name": "ipython",
    "version": 3
   },
   "file_extension": ".py",
   "mimetype": "text/x-python",
   "name": "python",
   "nbconvert_exporter": "python",
   "pygments_lexer": "ipython3",
   "version": "3.6.7"
  }
 },
 "nbformat": 4,
 "nbformat_minor": 4
}
