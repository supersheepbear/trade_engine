{
 "cells": [
  {
   "cell_type": "code",
   "execution_count": 2,
   "metadata": {},
   "outputs": [],
   "source": [
    "import sys\n",
    "sys.path.append(r'E:\\project\\backtrader')"
   ]
  },
  {
   "cell_type": "code",
   "execution_count": 3,
   "metadata": {},
   "outputs": [],
   "source": [
    "import backtrader as bt\n",
    "import backtrader.indicators as btind\n",
    "import backtrader.feeds as btfeeds"
   ]
  },
  {
   "cell_type": "markdown",
   "metadata": {},
   "source": [
    "# Data Feeds - Passing them around\n",
    "\n",
    "The basis of the work with the platform will be done with Strategies. And these will get passed Data Feeds. The platform end user does not need to care about receiving them:\n",
    "\n",
    "Data Feeds are automagically provided member variables to the strategy in the form of an array and shortcuts to the array positions\n",
    "\n"
   ]
  },
  {
   "cell_type": "markdown",
   "metadata": {},
   "source": [
    "Quick preview of a Strategy derived class declaration and running the platform:"
   ]
  },
  {
   "cell_type": "markdown",
   "metadata": {},
   "source": [
    "```python\n",
    "class MyStrategy(bt.Strategy):\n",
    "    params = dict(period=20)\n",
    "\n",
    "    def __init__(self):\n",
    "\n",
    "        sma = btind.SimpleMovingAverage(self.datas[0], period=self.params.period)\n",
    "\n",
    "    ...\n",
    "\n",
    "cerebro = bt.Cerebro()\n",
    "\n",
    "...\n",
    "\n",
    "data = btfeeds.MyFeed(...)\n",
    "cerebro.adddata(data)\n",
    "\n",
    "...\n",
    "\n",
    "cerebro.addstrategy(MyStrategy, period=30)\n",
    "```"
   ]
  },
  {
   "cell_type": "markdown",
   "metadata": {},
   "source": [
    "# Omitting the Data Feeds\n",
    "The example above can be further simplified to:"
   ]
  },
  {
   "cell_type": "markdown",
   "metadata": {},
   "source": [
    "```python\n",
    "    params = dict(period=20)\n",
    "\n",
    "    def __init__(self):\n",
    "\n",
    "        sma = btind.SimpleMovingAverage(period=self.params.period)\n",
    "\n",
    "    ...\n",
    "```"
   ]
  },
  {
   "cell_type": "markdown",
   "metadata": {},
   "source": [
    "self.data has been completely removed from the invocation of SimpleMovingAverage. If this is done, the indicator (in this case the SimpleMovingAverage) receives the first data of the object in which is being created (the Strategy), which is self.data (aka self.data0 or self.datas[0])"
   ]
  },
  {
   "cell_type": "markdown",
   "metadata": {},
   "source": [
    "# Almost everything is a Data Feed"
   ]
  },
  {
   "cell_type": "markdown",
   "metadata": {},
   "source": [
    "Not only Data Feeds are data and can be passed around. Indicators and results of Operations are also data.\n",
    "\n",
    "In the previous example the SimpleMovingAverage was receiving self.datas[0] as input to operate on. An example with operations and extra indicators:"
   ]
  },
  {
   "cell_type": "code",
   "execution_count": 8,
   "metadata": {},
   "outputs": [],
   "source": [
    "class MyStrategy(bt.Strategy):\n",
    "    params = dict(period1=20, period2=25, period3=10, period4=20)\n",
    "\n",
    "    def __init__(self):\n",
    "\n",
    "        sma1 = btind.SimpleMovingAverage(self.datas[0], period=self.p.period1)\n",
    "\n",
    "        # This 2nd Moving Average operates using sma1 as \"data\"\n",
    "        sma2 = btind.SimpleMovingAverage(sma1, period=self.p.period2)\n",
    "\n",
    "        # New data created via arithmetic operation\n",
    "        something = sma2 - sma1 + self.data.close\n",
    "\n",
    "        # This 3rd Moving Average operates using something  as \"data\"\n",
    "        sma3 = btind.SimpleMovingAverage(something, period=self.p.period3)\n",
    "\n",
    "        # Comparison operators work too ...\n",
    "        greater = sma3 > sma1\n",
    "\n",
    "        # Pointless Moving Average of True/False values but valid\n",
    "        # This 4th Moving Average operates using greater  as \"data\"\n",
    "        sma3 = btind.SimpleMovingAverage(greater, period=self.p.period4)\n"
   ]
  },
  {
   "cell_type": "markdown",
   "metadata": {},
   "source": [
    "Basically everything gets transformed into an object which can be used as a data feed once it has been operated upon.\n",
    "\n"
   ]
  },
  {
   "cell_type": "markdown",
   "metadata": {},
   "source": [
    "# Parameters"
   ]
  },
  {
   "cell_type": "markdown",
   "metadata": {},
   "source": [
    "Mostly every other class in the platform supports the notion of parameters.\n",
    "\n",
    "Parameters along with default values are declared as a class attribute (tuple of tuples or dict-like object)\n",
    "\n",
    "Keywords args (**kwargs) are scanned for matching parameters, removing them from **kwargs if found and assigning the value to the corresponding parameter\n",
    "\n",
    "And parameters can be finally used in instances of the class by accessing the member variable self.params (shorthand: self.p)\n",
    "\n",
    "The previous quick Strategy preview already contains a parameters example, but for the sake of redundancy, again, focusing only on the parameters. Using tuples:"
   ]
  },
  {
   "cell_type": "markdown",
   "metadata": {},
   "source": [
    "The previous quick Strategy preview already contains a parameters example, but for the sake of redundancy, again, focusing only on the parameters. Using tuples:"
   ]
  },
  {
   "cell_type": "code",
   "execution_count": 10,
   "metadata": {},
   "outputs": [],
   "source": [
    "class MyStrategy(bt.Strategy):\n",
    "    params = (('period', 20),)\n",
    "\n",
    "    def __init__(self):\n",
    "        sma = btind.SimpleMovingAverage(self.data, period=self.p.period)"
   ]
  },
  {
   "cell_type": "code",
   "execution_count": 11,
   "metadata": {},
   "outputs": [],
   "source": [
    "class MyStrategy(bt.Strategy):\n",
    "    params = dict(period=20)\n",
    "\n",
    "    def __init__(self):\n",
    "        sma = btind.SimpleMovingAverage(self.data, period=self.p.period)"
   ]
  },
  {
   "cell_type": "code",
   "execution_count": 16,
   "metadata": {},
   "outputs": [],
   "source": [
    "class MyStrategy(bt.Strategy):\n",
    "    params = dict(period=20)\n",
    "\n",
    "    def __init__(self):\n",
    "        sma = btind.SimpleMovingAverage(self.data, period=self.p.period)\n",
    "        print(self.p.period)"
   ]
  },
  {
   "cell_type": "markdown",
   "metadata": {},
   "source": [
    "# Lines\n",
    "Again mostly every other object in the platform is a Lines enabled object. From a end user point of view this means:\n",
    "\n",
    "It can hold one of more line series, being a line series an array of values were the values put together in a chart they would form a line.\n",
    "A good example of a line (or lineseries) is the line formed by the closing prices of a stock. This is actually a well-known chart representation of the evolution of prices (known as Line on Close)\n",
    "\n",
    "Regular use of the platform is only concerned with accessing lines. The previous mini-strategy example, lightly extended, comes in handy again:"
   ]
  },
  {
   "cell_type": "code",
   "execution_count": 23,
   "metadata": {},
   "outputs": [],
   "source": [
    "class MyStrategy(bt.Strategy):\n",
    "    params = dict(period=20)\n",
    "\n",
    "    def __init__(self):\n",
    "\n",
    "        self.movav = btind.SimpleMovingAverage(self.data, period=self.p.period)\n",
    "\n",
    "    def next(self):\n",
    "        if self.movav.lines.sma[0] > self.data.lines.close[0]:\n",
    "            print('Simple Moving Average is greater than the closing price')"
   ]
  },
  {
   "cell_type": "markdown",
   "metadata": {},
   "source": [
    "Two objects with lines have been exposed:\n",
    "\n",
    "self.data It has a lines attribute which contains a close attribute in turn\n",
    "\n",
    "self.movav which is a SimpleMovingAverage indicator It has a lines attribute which contains a sma attribute in turn"
   ]
  },
  {
   "cell_type": "markdown",
   "metadata": {},
   "source": [
    "It should be obvious from this, that lines are named. They can also be accessed sequentially following the declaration order, but this should only be used in Indicator development"
   ]
  },
  {
   "cell_type": "markdown",
   "metadata": {},
   "source": [
    "And both lines, namely close and sma can be queried for a point (index 0) to compare the values.\n",
    "\n",
    "Shorthand access to lines do exist:\n",
    "\n",
    "xxx.lines can be shortened to xxx.l\n",
    "\n",
    "xxx.lines.name can be shortened to xxx.lines_name\n",
    "\n",
    "Complex objects like Strategies and Indicators offer quick access to data’s lines\n",
    "\n",
    "self.data_name offers a direct access to self.data.lines.name\n",
    "\n",
    "Which also applies to the numbered data variables: self.data1_name -> self.data1.lines.name\n",
    "\n",
    "Additionally the line names are directly accessible with:\n",
    "\n",
    "self.data.close and self.movav.sma\n",
    "\n",
    "But the notation doesn’t make as clear as the previous one if lines are actually being accessed."
   ]
  },
  {
   "cell_type": "markdown",
   "metadata": {},
   "source": [
    "# Lines declaration\n",
    "If an Indicator is being developed, the lines which the indicator has must be declared.\n",
    "\n",
    "Just as with params this takes place as a class attribute this time ONLY as a tuple. Dictionaries are not supported because they do not store things following insertion order.\n",
    "\n",
    "\n",
    " \n",
    "For the Simple Moving Average it would be done like this:\n",
    "```python\n",
    "class SimpleMovingAverage(Indicator):\n",
    "    lines = ('sma',)\n",
    "```\n",
    "    ...\n",
    "Note\n",
    "\n",
    "The comma following the declaration is needed in tuples if you pass a single string to the tuple or else each letter in the string would be interpreted as an item to be added to the tuple. Possibly one of the few spots where Python’s syntax got it wrong.\n",
    "\n",
    "As seen in the previous example this declaration creates a sma line in the Indicator that can be later accessed in the Strategy’s logic (and possibly by other indicators to create more complex indicators)\n",
    "\n",
    "For development is sometimes useful to access the lines in a generic non-named manner and this is where numbered access comes in handy:\n",
    "\n",
    "self.lines[0] points to self.lines.sma\n",
    "Had more lines been defined they would be accessed with index 1, 2, and higher.\n",
    "\n",
    "And of course, extra shorthand versions do exist:\n",
    "\n",
    "self.line points to self.lines[0]\n",
    "\n",
    "self.lineX point to self.lines[X]\n",
    "\n",
    "self.line_X point to self.lines[X]\n",
    "\n",
    "Inside objects which are receiving datas feeds the lines below these data feeds can also be quickly accessed by number:\n",
    "\n",
    "self.dataY points to self.data.lines[Y]\n",
    "\n",
    "self.dataX_Y points to self.dataX.lines[X] which is a full shorthard version of self.datas[X].lines[Y]\n",
    "\n",
    "Accessing lines in Data Feeds\n",
    "Inside data feeds the lines can also be accessed omitting the lines. This makes it more natural to work with thinks like close prices.\n",
    "\n",
    "For example:"
   ]
  },
  {
   "cell_type": "code",
   "execution_count": null,
   "metadata": {},
   "outputs": [],
   "source": []
  }
 ],
 "metadata": {
  "kernelspec": {
   "display_name": "Python [conda env:backtrader]",
   "language": "python",
   "name": "conda-env-backtrader-py"
  },
  "language_info": {
   "codemirror_mode": {
    "name": "ipython",
    "version": 3
   },
   "file_extension": ".py",
   "mimetype": "text/x-python",
   "name": "python",
   "nbconvert_exporter": "python",
   "pygments_lexer": "ipython3",
   "version": "3.5.6"
  }
 },
 "nbformat": 4,
 "nbformat_minor": 4
}
