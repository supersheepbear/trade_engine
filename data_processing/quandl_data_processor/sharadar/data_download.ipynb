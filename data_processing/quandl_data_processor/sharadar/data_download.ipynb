{
 "cells": [
  {
   "cell_type": "code",
   "execution_count": 1,
   "metadata": {},
   "outputs": [],
   "source": [
    "import quandl\n",
    "from zipfile import ZipFile"
   ]
  },
  {
   "cell_type": "code",
   "execution_count": 2,
   "metadata": {},
   "outputs": [],
   "source": [
    "quandl.ApiConfig.api_key = \"jkUZVgKqUCsu-bAfFo7_\""
   ]
  },
  {
   "cell_type": "code",
   "execution_count": 3,
   "metadata": {},
   "outputs": [],
   "source": [
    "quandl.export_table('SHARADAR/SFP', filename=r'E:\\data\\quandl\\sharadar\\fund_price\\fund_price.zip')"
   ]
  },
  {
   "cell_type": "code",
   "execution_count": 9,
   "metadata": {},
   "outputs": [],
   "source": [
    "with ZipFile(r'E:\\data\\quandl\\sharadar\\fund_price\\fund_price.zip', 'r') as zipObj:\n",
    "   # Extract all the contents of zip file in current directory\n",
    "   zipObj.extractall(r'E:\\data\\quandl\\sharadar\\fund_price')"
   ]
  },
  {
   "cell_type": "code",
   "execution_count": 6,
   "metadata": {},
   "outputs": [],
   "source": [
    "quandl.export_table('SHARADAR/SEP', filename=r'E:\\data\\quandl\\sharadar\\stock_price\\stock_price.zip')"
   ]
  },
  {
   "cell_type": "code",
   "execution_count": 7,
   "metadata": {},
   "outputs": [],
   "source": [
    "with ZipFile(r'E:\\data\\quandl\\sharadar\\stock_price\\stock_price.zip', 'r') as zipObj:\n",
    "   # Extract all the contents of zip file in current directory\n",
    "   zipObj.extractall(r'E:\\data\\quandl\\sharadar\\stock_price')"
   ]
  },
  {
   "cell_type": "code",
   "execution_count": 8,
   "metadata": {},
   "outputs": [],
   "source": [
    "quandl.export_table('SHARADAR/SF1', filename=r'E:\\data\\quandl\\sharadar\\fundamental\\fundamental.zip')"
   ]
  },
  {
   "cell_type": "code",
   "execution_count": 9,
   "metadata": {},
   "outputs": [],
   "source": [
    "with ZipFile(r'E:\\data\\quandl\\sharadar\\fundamental\\fundamental.zip', 'r') as zipObj:\n",
    "   # Extract all the contents of zip file in current directory\n",
    "   zipObj.extractall(r'E:\\data\\quandl\\sharadar\\fundamental')"
   ]
  },
  {
   "cell_type": "code",
   "execution_count": 10,
   "metadata": {},
   "outputs": [],
   "source": [
    "quandl.export_table('SHARADAR/TICKERS', table='SF1', filename=r'E:\\data\\quandl\\sharadar\\symbol_list\\symbol_list.zip')"
   ]
  },
  {
   "cell_type": "code",
   "execution_count": 11,
   "metadata": {},
   "outputs": [],
   "source": [
    "with ZipFile(r'E:\\data\\quandl\\sharadar\\symbol_list\\symbol_list.zip', 'r') as zipObj:\n",
    "   # Extract all the contents of zip file in current directory\n",
    "   zipObj.extractall(r'E:\\data\\quandl\\sharadar\\symbol_list')\n",
    "quandl.export_table('SHARADAR/SF1', filename=r'E:\\data\\quandl\\sharadar\\symbol_list\\symbol_list.zip')"
   ]
  },
  {
   "cell_type": "code",
   "execution_count": null,
   "metadata": {},
   "outputs": [],
   "source": []
  }
 ],
 "metadata": {
  "kernelspec": {
   "display_name": "Python [conda env:quandl]",
   "language": "python",
   "name": "conda-env-quandl-py"
  },
  "language_info": {
   "codemirror_mode": {
    "name": "ipython",
    "version": 3
   },
   "file_extension": ".py",
   "mimetype": "text/x-python",
   "name": "python",
   "nbconvert_exporter": "python",
   "pygments_lexer": "ipython3",
   "version": "3.6.12"
  }
 },
 "nbformat": 4,
 "nbformat_minor": 4
}
