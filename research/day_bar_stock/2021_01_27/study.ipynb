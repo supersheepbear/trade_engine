{
 "cells": [
  {
   "cell_type": "code",
   "execution_count": 35,
   "metadata": {},
   "outputs": [],
   "source": [
    "import pandas as pd\n",
    "import talib\n",
    "import os\n",
    "import logging\n",
    "import time\n",
    "import numpy as np\n",
    "import datetime as dt\n",
    "import backtrader as bt\n",
    "import pandas as pd\n",
    "import itertools\n",
    "from backtrader_plotting import Bokeh\n",
    "from backtrader_plotting.schemes import Tradimo\n",
    "#%matplotlib qt\n",
    "%matplotlib inline"
   ]
  },
  {
   "cell_type": "code",
   "execution_count": 2,
   "metadata": {},
   "outputs": [],
   "source": [
    "logging.basicConfig(level=logging.INFO, format='%(asctime)s - %(name)s - %(levelname)s - %(message)s')\n",
    "logger = logging.getLogger(\"study\")\n",
    "handler = logging.FileHandler('study.log')\n",
    "formatter = logging.Formatter('%(asctime)s - %(name)s - %(levelname)s - %(message)s')\n",
    "handler.setFormatter(formatter)\n",
    "logger.addHandler(handler)"
   ]
  },
  {
   "cell_type": "code",
   "execution_count": 3,
   "metadata": {},
   "outputs": [
    {
     "name": "stderr",
     "output_type": "stream",
     "text": [
      "2021-01-29 01:22:57,007 - numexpr.utils - INFO - Note: NumExpr detected 12 cores but \"NUMEXPR_MAX_THREADS\" not set, so enforcing safe limit of 8.\n",
      "2021-01-29 01:22:57,009 - numexpr.utils - INFO - NumExpr defaulting to 8 threads.\n"
     ]
    }
   ],
   "source": [
    "stock_data_store = pd.HDFStore(r'E:\\project\\trade_engine\\data_processing\\quandl_data_processor\\stock_day.h5')\n",
    "\n",
    "# 取出所有volume>3000000的股票的symbol组成一个list\n",
    "symbol_list = pd.read_csv(\n",
    "    r\"E:\\project\\trade_engine\\data_processing\\quandl_data_processor\\filter_stock_symbols.csv\").loc[\n",
    "              :, \"symbols\"].tolist()\n",
    "\n",
    "# 用一个字典来把所有股票数据全部读到内存中去.\n",
    "symbol_frame_dict = {}\n",
    "for symbol in symbol_list:\n",
    "    # 从hdf中把数据读进内存中\n",
    "    symbol_frame = stock_data_store.select('day', where=['symbol==\"{}\"'.format(symbol)])\n",
    "    # 我们只研究2000年后的股票数据, 之前的就不要了\n",
    "    symbol_frame = symbol_frame[symbol_frame.index > dt.datetime(2000, 1, 1)]\n",
    "    # 把数据缓存到一个字典中, symbol作为key\n",
    "    symbol_frame_dict[symbol] = symbol_frame"
   ]
  },
  {
   "cell_type": "code",
   "execution_count": 48,
   "metadata": {},
   "outputs": [],
   "source": [
    "# 首先要定义一个param list\n",
    "param_name_list = [\"m\", \"n\", \"min_price\", \"float_factor\", \"high_factor\"]\n",
    "\n",
    "# 在此定义策略中的所有参数取值范围, 用list数据结构\n",
    "param_value_selections = [\n",
    "    [5],\n",
    "    [25],\n",
    "    [5],\n",
    "    [0.08],\n",
    "    [0.8]\n",
    "]\n",
    "\n",
    "\n",
    "# 循环所有的参数可能的组合\n",
    "for param_values in itertools.product(*param_value_selections):\n",
    "    # 把当前所有params的取值放在一个字典中\n",
    "    param = {}\n",
    "    for index, param_name in enumerate(param_name_list):\n",
    "        param[param_name] = param_values[index]"
   ]
  },
  {
   "cell_type": "code",
   "execution_count": 49,
   "metadata": {},
   "outputs": [
    {
     "data": {
      "text/plain": [
       "{'m': 5, 'n': 25, 'min_price': 5, 'float_factor': 0.08, 'high_factor': 0.8}"
      ]
     },
     "execution_count": 49,
     "metadata": {},
     "output_type": "execute_result"
    }
   ],
   "source": [
    "param"
   ]
  },
  {
   "cell_type": "code",
   "execution_count": 50,
   "metadata": {},
   "outputs": [],
   "source": [
    "# 创建一个list用于记录计算出的所有股票的buy signal data frame\n",
    "buy_signal_list = []\n",
    "\n",
    "# 创建一个list用于记录计算出的所有股票的buy signal data frame\n",
    "buy_signal_list = []\n",
    "for symbol in symbol_list:\n",
    "    # 首先从内存中取出数据\n",
    "    data = symbol_frame_dict[symbol]\n",
    "\n",
    "    # 下面计算一些指标\n",
    "    close = data.loc[:, \"adj_close\"]\n",
    "    adj_close_change = (close - close.shift(1)) / close.shift(1)\n",
    "    close_change_m_days_max = close.shift(1).rolling(param[\"m\"]).max()\n",
    "    close_change_m_days_max_percent = (close_change_m_days_max - close) / close\n",
    "\n",
    "    close_change_m_days_min = close.shift(1).rolling(param[\"m\"]).min()\n",
    "    close_change_m_days_min_percent = (close_change_m_days_min - close) / close\n",
    "\n",
    "    previous_high = close.shift(1).rolling(param[\"m\"] + param[\"n\"]).max()\n",
    "    previous_high_percent = (previous_high - close) / close\n",
    "\n",
    "    close_greater_than_min_price = (close > param[\"min_price\"]) * 1\n",
    "\n",
    "    # 根据指标计算买入信号.\n",
    "    buy_signal = (\n",
    "            (close_change_m_days_max_percent < param[\"float_factor\"])\n",
    "            & (close_change_m_days_min_percent > -param[\"float_factor\"])\n",
    "            & (previous_high_percent > param[\"high_factor\"])\n",
    "            & (close_greater_than_min_price == 1)\n",
    "            & (close > close_change_m_days_max)\n",
    "    )\n",
    "\n",
    "    # 计算未来多少天的收益值\n",
    "    next_7_days_avg_close_change = adj_close_change.rolling(7).mean().shift(-7)\n",
    "    next_14_days_avg_close_change = adj_close_change.rolling(14).mean().shift(-14)\n",
    "    next_21_days_avg_close_change = adj_close_change.rolling(21).mean().shift(-21)\n",
    "    next_28_days_avg_close_change = adj_close_change.rolling(28).mean().shift(-28)\n",
    "\n",
    "    # 构建buy signal dataframe\n",
    "    buy_sig_index = buy_signal[buy_signal == True].index\n",
    "    buy_signal_frame = pd.concat([\n",
    "        data.loc[buy_sig_index],\n",
    "        next_7_days_avg_close_change.loc[buy_sig_index].rename(\"next_7_days_avg_close_change\"),\n",
    "        next_14_days_avg_close_change.loc[buy_sig_index].rename(\"next_14_days_avg_close_change\"),\n",
    "        next_21_days_avg_close_change.loc[buy_sig_index].rename(\"next_21_days_avg_close_change\"),\n",
    "        next_28_days_avg_close_change.loc[buy_sig_index].rename(\"next_28_days_avg_close_change\")],\n",
    "        axis=1\n",
    "    )\n",
    "\n",
    "    # 把当前symbol的buy signal list存储在 buy signal中\n",
    "    buy_signal_list.append(buy_signal_frame)\n",
    "\n",
    "# 把所有symbol的buy signal frame合成为一个summary buy signal frame\n",
    "buy_signal_summary_frame = pd.concat(buy_signal_list)"
   ]
  },
  {
   "cell_type": "code",
   "execution_count": 39,
   "metadata": {},
   "outputs": [],
   "source": [
    "buy_signal_summary_frame.to_csv(\"check.csv\")"
   ]
  },
  {
   "cell_type": "code",
   "execution_count": 51,
   "metadata": {},
   "outputs": [
    {
     "data": {
      "text/html": [
       "<div>\n",
       "<style scoped>\n",
       "    .dataframe tbody tr th:only-of-type {\n",
       "        vertical-align: middle;\n",
       "    }\n",
       "\n",
       "    .dataframe tbody tr th {\n",
       "        vertical-align: top;\n",
       "    }\n",
       "\n",
       "    .dataframe thead th {\n",
       "        text-align: right;\n",
       "    }\n",
       "</style>\n",
       "<table border=\"1\" class=\"dataframe\">\n",
       "  <thead>\n",
       "    <tr style=\"text-align: right;\">\n",
       "      <th></th>\n",
       "      <th>unadj_open</th>\n",
       "      <th>unadj_high</th>\n",
       "      <th>unadj_low</th>\n",
       "      <th>unadj_close</th>\n",
       "      <th>unadj_vol</th>\n",
       "      <th>dividends</th>\n",
       "      <th>splits</th>\n",
       "      <th>adj_open</th>\n",
       "      <th>adj_high</th>\n",
       "      <th>adj_low</th>\n",
       "      <th>adj_close</th>\n",
       "      <th>adj_volume</th>\n",
       "      <th>next_7_days_avg_close_change</th>\n",
       "      <th>next_14_days_avg_close_change</th>\n",
       "      <th>next_21_days_avg_close_change</th>\n",
       "      <th>next_28_days_avg_close_change</th>\n",
       "    </tr>\n",
       "  </thead>\n",
       "  <tbody>\n",
       "    <tr>\n",
       "      <th>count</th>\n",
       "      <td>508.000000</td>\n",
       "      <td>508.000000</td>\n",
       "      <td>508.000000</td>\n",
       "      <td>508.000000</td>\n",
       "      <td>5.080000e+02</td>\n",
       "      <td>508.000000</td>\n",
       "      <td>508.0</td>\n",
       "      <td>5.080000e+02</td>\n",
       "      <td>5.080000e+02</td>\n",
       "      <td>5.080000e+02</td>\n",
       "      <td>5.080000e+02</td>\n",
       "      <td>5.080000e+02</td>\n",
       "      <td>508.000000</td>\n",
       "      <td>508.000000</td>\n",
       "      <td>508.000000</td>\n",
       "      <td>506.000000</td>\n",
       "    </tr>\n",
       "    <tr>\n",
       "      <th>mean</th>\n",
       "      <td>12.536172</td>\n",
       "      <td>12.979242</td>\n",
       "      <td>12.370019</td>\n",
       "      <td>12.786263</td>\n",
       "      <td>3.751657e+06</td>\n",
       "      <td>0.000571</td>\n",
       "      <td>1.0</td>\n",
       "      <td>8.703597e+06</td>\n",
       "      <td>9.484509e+06</td>\n",
       "      <td>8.651360e+06</td>\n",
       "      <td>8.985571e+06</td>\n",
       "      <td>2.336845e+06</td>\n",
       "      <td>0.001119</td>\n",
       "      <td>-0.000295</td>\n",
       "      <td>-0.000369</td>\n",
       "      <td>0.003478</td>\n",
       "    </tr>\n",
       "    <tr>\n",
       "      <th>std</th>\n",
       "      <td>15.088341</td>\n",
       "      <td>15.556478</td>\n",
       "      <td>14.917524</td>\n",
       "      <td>15.345649</td>\n",
       "      <td>8.813515e+06</td>\n",
       "      <td>0.009095</td>\n",
       "      <td>0.0</td>\n",
       "      <td>1.791369e+08</td>\n",
       "      <td>1.959076e+08</td>\n",
       "      <td>1.787332e+08</td>\n",
       "      <td>1.858197e+08</td>\n",
       "      <td>5.374393e+06</td>\n",
       "      <td>0.033213</td>\n",
       "      <td>0.020693</td>\n",
       "      <td>0.016803</td>\n",
       "      <td>0.079123</td>\n",
       "    </tr>\n",
       "    <tr>\n",
       "      <th>min</th>\n",
       "      <td>0.058300</td>\n",
       "      <td>0.059000</td>\n",
       "      <td>0.055000</td>\n",
       "      <td>0.057100</td>\n",
       "      <td>0.000000e+00</td>\n",
       "      <td>0.000000</td>\n",
       "      <td>1.0</td>\n",
       "      <td>4.720000e+00</td>\n",
       "      <td>5.098059e+00</td>\n",
       "      <td>4.000000e+00</td>\n",
       "      <td>5.050000e+00</td>\n",
       "      <td>0.000000e+00</td>\n",
       "      <td>-0.189236</td>\n",
       "      <td>-0.150228</td>\n",
       "      <td>-0.120563</td>\n",
       "      <td>-0.091758</td>\n",
       "    </tr>\n",
       "    <tr>\n",
       "      <th>25%</th>\n",
       "      <td>2.080000</td>\n",
       "      <td>2.160000</td>\n",
       "      <td>2.022500</td>\n",
       "      <td>2.160000</td>\n",
       "      <td>2.190750e+05</td>\n",
       "      <td>0.000000</td>\n",
       "      <td>1.0</td>\n",
       "      <td>8.030000e+00</td>\n",
       "      <td>8.428000e+00</td>\n",
       "      <td>7.927324e+00</td>\n",
       "      <td>8.177817e+00</td>\n",
       "      <td>2.601048e+04</td>\n",
       "      <td>-0.010049</td>\n",
       "      <td>-0.007729</td>\n",
       "      <td>-0.006656</td>\n",
       "      <td>-0.006133</td>\n",
       "    </tr>\n",
       "    <tr>\n",
       "      <th>50%</th>\n",
       "      <td>7.538500</td>\n",
       "      <td>7.895000</td>\n",
       "      <td>7.440000</td>\n",
       "      <td>7.695000</td>\n",
       "      <td>1.066150e+06</td>\n",
       "      <td>0.000000</td>\n",
       "      <td>1.0</td>\n",
       "      <td>1.564000e+01</td>\n",
       "      <td>1.633250e+01</td>\n",
       "      <td>1.549000e+01</td>\n",
       "      <td>1.606500e+01</td>\n",
       "      <td>3.711000e+05</td>\n",
       "      <td>-0.001035</td>\n",
       "      <td>-0.001432</td>\n",
       "      <td>-0.000473</td>\n",
       "      <td>0.000138</td>\n",
       "    </tr>\n",
       "    <tr>\n",
       "      <th>75%</th>\n",
       "      <td>15.510000</td>\n",
       "      <td>16.260000</td>\n",
       "      <td>15.480000</td>\n",
       "      <td>16.055000</td>\n",
       "      <td>3.569493e+06</td>\n",
       "      <td>0.000000</td>\n",
       "      <td>1.0</td>\n",
       "      <td>4.164500e+01</td>\n",
       "      <td>4.305000e+01</td>\n",
       "      <td>4.126250e+01</td>\n",
       "      <td>4.267012e+01</td>\n",
       "      <td>2.622074e+06</td>\n",
       "      <td>0.008586</td>\n",
       "      <td>0.006639</td>\n",
       "      <td>0.005331</td>\n",
       "      <td>0.005776</td>\n",
       "    </tr>\n",
       "    <tr>\n",
       "      <th>max</th>\n",
       "      <td>115.910000</td>\n",
       "      <td>119.250000</td>\n",
       "      <td>115.230000</td>\n",
       "      <td>117.330000</td>\n",
       "      <td>1.340000e+08</td>\n",
       "      <td>0.150000</td>\n",
       "      <td>1.0</td>\n",
       "      <td>4.032006e+09</td>\n",
       "      <td>4.410007e+09</td>\n",
       "      <td>4.023438e+09</td>\n",
       "      <td>4.183206e+09</td>\n",
       "      <td>5.567406e+07</td>\n",
       "      <td>0.482652</td>\n",
       "      <td>0.222279</td>\n",
       "      <td>0.148186</td>\n",
       "      <td>1.755308</td>\n",
       "    </tr>\n",
       "  </tbody>\n",
       "</table>\n",
       "</div>"
      ],
      "text/plain": [
       "       unadj_open  unadj_high   unadj_low  unadj_close     unadj_vol  \\\n",
       "count  508.000000  508.000000  508.000000   508.000000  5.080000e+02   \n",
       "mean    12.536172   12.979242   12.370019    12.786263  3.751657e+06   \n",
       "std     15.088341   15.556478   14.917524    15.345649  8.813515e+06   \n",
       "min      0.058300    0.059000    0.055000     0.057100  0.000000e+00   \n",
       "25%      2.080000    2.160000    2.022500     2.160000  2.190750e+05   \n",
       "50%      7.538500    7.895000    7.440000     7.695000  1.066150e+06   \n",
       "75%     15.510000   16.260000   15.480000    16.055000  3.569493e+06   \n",
       "max    115.910000  119.250000  115.230000   117.330000  1.340000e+08   \n",
       "\n",
       "        dividends  splits      adj_open      adj_high       adj_low  \\\n",
       "count  508.000000   508.0  5.080000e+02  5.080000e+02  5.080000e+02   \n",
       "mean     0.000571     1.0  8.703597e+06  9.484509e+06  8.651360e+06   \n",
       "std      0.009095     0.0  1.791369e+08  1.959076e+08  1.787332e+08   \n",
       "min      0.000000     1.0  4.720000e+00  5.098059e+00  4.000000e+00   \n",
       "25%      0.000000     1.0  8.030000e+00  8.428000e+00  7.927324e+00   \n",
       "50%      0.000000     1.0  1.564000e+01  1.633250e+01  1.549000e+01   \n",
       "75%      0.000000     1.0  4.164500e+01  4.305000e+01  4.126250e+01   \n",
       "max      0.150000     1.0  4.032006e+09  4.410007e+09  4.023438e+09   \n",
       "\n",
       "          adj_close    adj_volume  next_7_days_avg_close_change  \\\n",
       "count  5.080000e+02  5.080000e+02                    508.000000   \n",
       "mean   8.985571e+06  2.336845e+06                      0.001119   \n",
       "std    1.858197e+08  5.374393e+06                      0.033213   \n",
       "min    5.050000e+00  0.000000e+00                     -0.189236   \n",
       "25%    8.177817e+00  2.601048e+04                     -0.010049   \n",
       "50%    1.606500e+01  3.711000e+05                     -0.001035   \n",
       "75%    4.267012e+01  2.622074e+06                      0.008586   \n",
       "max    4.183206e+09  5.567406e+07                      0.482652   \n",
       "\n",
       "       next_14_days_avg_close_change  next_21_days_avg_close_change  \\\n",
       "count                     508.000000                     508.000000   \n",
       "mean                       -0.000295                      -0.000369   \n",
       "std                         0.020693                       0.016803   \n",
       "min                        -0.150228                      -0.120563   \n",
       "25%                        -0.007729                      -0.006656   \n",
       "50%                        -0.001432                      -0.000473   \n",
       "75%                         0.006639                       0.005331   \n",
       "max                         0.222279                       0.148186   \n",
       "\n",
       "       next_28_days_avg_close_change  \n",
       "count                     506.000000  \n",
       "mean                        0.003478  \n",
       "std                         0.079123  \n",
       "min                        -0.091758  \n",
       "25%                        -0.006133  \n",
       "50%                         0.000138  \n",
       "75%                         0.005776  \n",
       "max                         1.755308  "
      ]
     },
     "execution_count": 51,
     "metadata": {},
     "output_type": "execute_result"
    }
   ],
   "source": [
    "buy_signal_summary_frame.describe()"
   ]
  },
  {
   "cell_type": "code",
   "execution_count": 52,
   "metadata": {},
   "outputs": [
    {
     "data": {
      "image/png": "[encoded data removed]",
      "text/plain": [
       "<Figure size 432x288 with 1 Axes>"
      ]
     },
     "metadata": {
      "needs_background": "light"
     },
     "output_type": "display_data"
    }
   ],
   "source": [
    "_ = buy_signal_summary_frame.loc[:, \"next_7_days_avg_close_change\"].hist(bins=60)"
   ]
  },
  {
   "cell_type": "code",
   "execution_count": null,
   "metadata": {},
   "outputs": [],
   "source": []
  },
  {
   "cell_type": "markdown",
   "metadata": {},
   "source": [
    "画图"
   ]
  },
  {
   "cell_type": "code",
   "execution_count": 172,
   "metadata": {},
   "outputs": [
    {
     "data": {
      "text/plain": [
       "[<backtrader.strategy.Strategy at 0x1d79b728e80>]"
      ]
     },
     "execution_count": 172,
     "metadata": {},
     "output_type": "execute_result"
    }
   ],
   "source": [
    "cerebro = bt.Cerebro()\n",
    "data = bt.feeds.PandasData(\n",
    "    dataname=data,\n",
    "    datetime=None,\n",
    "    open=8,\n",
    "    high=9,\n",
    "    low=10,\n",
    "    close=11,\n",
    "    volume=12,\n",
    "    openinterest=-1\n",
    ")\n",
    "cerebro.adddata(data)\n",
    "cerebro.run()"
   ]
  },
  {
   "cell_type": "code",
   "execution_count": 173,
   "metadata": {},
   "outputs": [
    {
     "data": {
      "text/plain": [
       "[[<Figure size 640x480 with 4 Axes>]]"
      ]
     },
     "execution_count": 173,
     "metadata": {},
     "output_type": "execute_result"
    }
   ],
   "source": [
    "cerebro.plot(style='candle', iplot=False)"
   ]
  },
  {
   "cell_type": "code",
   "execution_count": 174,
   "metadata": {},
   "outputs": [
    {
     "data": {
      "text/plain": [
       "[[<backtrader_plotting.bokeh.bokeh.FigurePage at 0x1d79eb8bf60>]]"
      ]
     },
     "execution_count": 174,
     "metadata": {},
     "output_type": "execute_result"
    }
   ],
   "source": [
    "# b = Bokeh(style='bar') # 黑底, 单页\n",
    "b = Bokeh(style='bar', tabs='multi') # 黑底, 多页\n",
    "# b = Bokeh(style='bar', scheme=Tradimo()) # 传统白底, 单页\n",
    "# b = Bokeh(style='bar', tabs='multi', scheme=Tradimo()) # 传统白底, 多页\n",
    "cerebro.plot(b, iplot=False)"
   ]
  },
  {
   "cell_type": "code",
   "execution_count": null,
   "metadata": {},
   "outputs": [],
   "source": []
  }
 ],
 "metadata": {
  "kernelspec": {
   "display_name": "Python [conda env:backtrader_py36]",
   "language": "python",
   "name": "conda-env-backtrader_py36-py"
  },
  "language_info": {
   "codemirror_mode": {
    "name": "ipython",
    "version": 3
   },
   "file_extension": ".py",
   "mimetype": "text/x-python",
   "name": "python",
   "nbconvert_exporter": "python",
   "pygments_lexer": "ipython3",
   "version": "3.6.12"
  }
 },
 "nbformat": 4,
 "nbformat_minor": 4
}
