{
 "cells": [
  {
   "cell_type": "markdown",
   "metadata": {},
   "source": [
    "Study the relation ship of:\n",
    "input: The percentage of current price compared to x days simple moving average\n",
    "output: The proc"
   ]
  },
  {
   "cell_type": "code",
   "execution_count": 1,
   "metadata": {},
   "outputs": [],
   "source": [
    "import pandas as pd\n",
    "import talib"
   ]
  },
  {
   "cell_type": "markdown",
   "metadata": {},
   "source": [
    "Read data"
   ]
  },
  {
   "cell_type": "code",
   "execution_count": 2,
   "metadata": {},
   "outputs": [],
   "source": [
    "stock_data_store = pd.HDFStore('stock_day.h5')"
   ]
  },
  {
   "cell_type": "code",
   "execution_count": 3,
   "metadata": {},
   "outputs": [],
   "source": [
    "symbols_frame = pd.read_csv(\"stock_symbols.csv\")"
   ]
  },
  {
   "cell_type": "code",
   "execution_count": 4,
   "metadata": {},
   "outputs": [
    {
     "data": {
      "text/html": [
       "<div>\n",
       "<style scoped>\n",
       "    .dataframe tbody tr th:only-of-type {\n",
       "        vertical-align: middle;\n",
       "    }\n",
       "\n",
       "    .dataframe tbody tr th {\n",
       "        vertical-align: top;\n",
       "    }\n",
       "\n",
       "    .dataframe thead th {\n",
       "        text-align: right;\n",
       "    }\n",
       "</style>\n",
       "<table border=\"1\" class=\"dataframe\">\n",
       "  <thead>\n",
       "    <tr style=\"text-align: right;\">\n",
       "      <th></th>\n",
       "      <th>symbols</th>\n",
       "    </tr>\n",
       "  </thead>\n",
       "  <tbody>\n",
       "    <tr>\n",
       "      <th>0</th>\n",
       "      <td>A</td>\n",
       "    </tr>\n",
       "    <tr>\n",
       "      <th>1</th>\n",
       "      <td>AA</td>\n",
       "    </tr>\n",
       "    <tr>\n",
       "      <th>2</th>\n",
       "      <td>AAAP</td>\n",
       "    </tr>\n",
       "    <tr>\n",
       "      <th>3</th>\n",
       "      <td>AAAU</td>\n",
       "    </tr>\n",
       "    <tr>\n",
       "      <th>4</th>\n",
       "      <td>AABA</td>\n",
       "    </tr>\n",
       "  </tbody>\n",
       "</table>\n",
       "</div>"
      ],
      "text/plain": [
       "  symbols\n",
       "0       A\n",
       "1      AA\n",
       "2    AAAP\n",
       "3    AAAU\n",
       "4    AABA"
      ]
     },
     "execution_count": 4,
     "metadata": {},
     "output_type": "execute_result"
    }
   ],
   "source": [
    "symbols_frame.head()"
   ]
  },
  {
   "cell_type": "code",
   "execution_count": 5,
   "metadata": {},
   "outputs": [],
   "source": [
    "symbol_list = symbols_frame.loc[:, \"symbols\"].tolist()"
   ]
  },
  {
   "cell_type": "code",
   "execution_count": 6,
   "metadata": {},
   "outputs": [
    {
     "data": {
      "text/plain": [
       "['A', 'AA', 'AAAP', 'AAAU', 'AABA']"
      ]
     },
     "execution_count": 6,
     "metadata": {},
     "output_type": "execute_result"
    }
   ],
   "source": [
    "symbol_list[:5]"
   ]
  },
  {
   "cell_type": "code",
   "execution_count": 7,
   "metadata": {},
   "outputs": [
    {
     "name": "stdout",
     "output_type": "stream",
     "text": [
      "process: 500/14370\n",
      "process: 1000/14370\n",
      "process: 1500/14370\n",
      "process: 2000/14370\n",
      "process: 2500/14370\n",
      "process: 3000/14370\n",
      "process: 3500/14370\n",
      "process: 4000/14370\n",
      "process: 4500/14370\n",
      "process: 5000/14370\n",
      "process: 5500/14370\n",
      "process: 6000/14370\n",
      "process: 6500/14370\n",
      "process: 7000/14370\n",
      "process: 7500/14370\n",
      "process: 8000/14370\n",
      "process: 8500/14370\n",
      "process: 9000/14370\n",
      "process: 9500/14370\n",
      "process: 10000/14370\n",
      "process: 10500/14370\n",
      "process: 11000/14370\n",
      "process: 11500/14370\n",
      "process: 12000/14370\n",
      "process: 12500/14370\n",
      "process: 13000/14370\n",
      "process: 13500/14370\n",
      "process: 14000/14370\n"
     ]
    }
   ],
   "source": [
    "filter_symbol_list= []\n",
    "finished_number = 0\n",
    "for symbol in symbol_list:\n",
    "    symbol_frame = stock_data_store.select('day', where=['symbol==\"{}\"'.format(symbol)])\n",
    "    if symbol_frame.iloc[-1, :].loc[\"adj_volume\"] > 3000000:\n",
    "        filter_symbol_list.append(symbol)\n",
    "    finished_number += 1\n",
    "    if finished_number%500 == 0:\n",
    "        print(\"process: {}/{}\".format(finished_number, len(symbol_list)))\n",
    "        "
   ]
  },
  {
   "cell_type": "code",
   "execution_count": 8,
   "metadata": {},
   "outputs": [
    {
     "data": {
      "text/plain": [
       "1724"
      ]
     },
     "execution_count": 8,
     "metadata": {},
     "output_type": "execute_result"
    }
   ],
   "source": [
    "len(filter_symbol_list)"
   ]
  },
  {
   "cell_type": "code",
   "execution_count": 9,
   "metadata": {},
   "outputs": [],
   "source": [
    "filter_symbols_frame = pd.DataFrame({\"symbols\":filter_symbol_list})\n",
    "filter_symbols_frame.to_csv(\"filter_stock_symbols.csv\", index=False)"
   ]
  },
  {
   "cell_type": "code",
   "execution_count": 10,
   "metadata": {},
   "outputs": [],
   "source": [
    "filter_symbol_list = pd.read_csv(\"filter_stock_symbols.csv\").loc[:, \"symbols\"].tolist()"
   ]
  },
  {
   "cell_type": "code",
   "execution_count": 31,
   "metadata": {},
   "outputs": [],
   "source": [
    "def get_symbol_test_data(param_set, symbol):\n",
    "\n",
    "    symbol_frame = stock_data_store.select('day', where=['symbol==\"{}\"'.format(symbol)])\n",
    "    close = symbol_frame.loc[:, \"adj_close\"]\n",
    "    sma = talib.SMA(close, timeperiod=param_set[\"sma_period\"])\n",
    "    input_column = (close - sma)/close * 100\n",
    "\n",
    "    output_column = (close.shift(param_set[\"out_shift_period\"]) - close)/close * 100\n",
    "\n",
    "    test_data = pd.concat([input_column, output_column], axis=1)\n",
    "\n",
    "    test_data.columns = [\"input\", \"output\"]\n",
    "\n",
    "    test_data.dropna(inplace=True)\n",
    "    #test_data = test_data[test_data[\"input\"] > 1]\n",
    "    daily_change = abs((close - close.shift(1))/close).dropna()\n",
    "    daily_change_mean= daily_change.mean()\n",
    "\n",
    "    #test_data\n",
    "    test_data = test_data[abs(test_data[\"input\"]) > daily_change_mean * 100 * 0.5]\n",
    "    return test_data"
   ]
  },
  {
   "cell_type": "code",
   "execution_count": 32,
   "metadata": {},
   "outputs": [],
   "source": [
    "test_data = pd.DataFrame()"
   ]
  },
  {
   "cell_type": "code",
   "execution_count": 33,
   "metadata": {},
   "outputs": [],
   "source": [
    "final_result_dict = {\"sma_period\":[], \"out_shift_period\":[], \"correlation\":[], \"accurate_ratio\":[] }"
   ]
  },
  {
   "cell_type": "code",
   "execution_count": 60,
   "metadata": {},
   "outputs": [
    {
     "ename": "KeyError",
     "evalue": "'accurate_ratio'",
     "output_type": "error",
     "traceback": [
      "\u001b[1;31m---------------------------------------------------------------------------\u001b[0m",
      "\u001b[1;31mKeyError\u001b[0m                                  Traceback (most recent call last)",
      "\u001b[1;32m<ipython-input-60-456727774946>\u001b[0m in \u001b[0;36m<module>\u001b[1;34m\u001b[0m\n\u001b[0;32m     19\u001b[0m         \u001b[0mproduct\u001b[0m \u001b[1;33m=\u001b[0m \u001b[1;33m(\u001b[0m\u001b[0mtest_data\u001b[0m\u001b[1;33m.\u001b[0m\u001b[0mloc\u001b[0m\u001b[1;33m[\u001b[0m\u001b[1;33m:\u001b[0m\u001b[1;33m,\u001b[0m \u001b[1;34m\"input\"\u001b[0m\u001b[1;33m]\u001b[0m \u001b[1;33m*\u001b[0m \u001b[0mtest_data\u001b[0m\u001b[1;33m.\u001b[0m\u001b[0mloc\u001b[0m\u001b[1;33m[\u001b[0m\u001b[1;33m:\u001b[0m\u001b[1;33m,\u001b[0m \u001b[1;34m\"output\"\u001b[0m\u001b[1;33m]\u001b[0m\u001b[1;33m)\u001b[0m \u001b[1;33m>\u001b[0m \u001b[1;36m0\u001b[0m\u001b[1;33m\u001b[0m\u001b[1;33m\u001b[0m\u001b[0m\n\u001b[0;32m     20\u001b[0m         \u001b[0maccurate_ratio\u001b[0m \u001b[1;33m=\u001b[0m \u001b[0mlen\u001b[0m\u001b[1;33m(\u001b[0m\u001b[0mproduct\u001b[0m\u001b[1;33m[\u001b[0m\u001b[0mproduct\u001b[0m\u001b[1;33m>\u001b[0m\u001b[1;36m0\u001b[0m\u001b[1;33m]\u001b[0m\u001b[1;33m)\u001b[0m\u001b[1;33m/\u001b[0m\u001b[0mlen\u001b[0m\u001b[1;33m(\u001b[0m\u001b[0mproduct\u001b[0m\u001b[1;33m)\u001b[0m\u001b[1;33m\u001b[0m\u001b[1;33m\u001b[0m\u001b[0m\n\u001b[1;32m---> 21\u001b[1;33m         \u001b[0mfinal_result_dict\u001b[0m\u001b[1;33m[\u001b[0m\u001b[1;34m\"accurate_ratio\"\u001b[0m\u001b[1;33m]\u001b[0m\u001b[1;33m.\u001b[0m\u001b[0mappend\u001b[0m\u001b[1;33m(\u001b[0m\u001b[0maccurate_ratio\u001b[0m\u001b[1;33m)\u001b[0m\u001b[1;33m\u001b[0m\u001b[1;33m\u001b[0m\u001b[0m\n\u001b[0m\u001b[0;32m     22\u001b[0m         \u001b[0mtest_data\u001b[0m\u001b[1;33m.\u001b[0m\u001b[0mto_csv\u001b[0m\u001b[1;33m(\u001b[0m\u001b[0mos\u001b[0m\u001b[1;33m.\u001b[0m\u001b[0mpath\u001b[0m\u001b[1;33m.\u001b[0m\u001b[0mjoin\u001b[0m\u001b[1;33m(\u001b[0m\u001b[1;34m\"test_data\"\u001b[0m\u001b[1;33m,\u001b[0m \u001b[1;34m\"sma_period_{}_out_shift_period_{}\"\u001b[0m\u001b[1;33m.\u001b[0m\u001b[0mformat\u001b[0m\u001b[1;33m(\u001b[0m\u001b[0msma_period\u001b[0m\u001b[1;33m,\u001b[0m \u001b[0mout_shift_period\u001b[0m\u001b[1;33m)\u001b[0m \u001b[1;33m+\u001b[0m \u001b[1;34m\".csv\"\u001b[0m\u001b[1;33m)\u001b[0m\u001b[1;33m)\u001b[0m\u001b[1;33m\u001b[0m\u001b[1;33m\u001b[0m\u001b[0m\n\u001b[0;32m     23\u001b[0m         \u001b[0mprint\u001b[0m\u001b[1;33m(\u001b[0m\u001b[1;34m\"process: {}/{}\"\u001b[0m\u001b[1;33m.\u001b[0m\u001b[0mformat\u001b[0m\u001b[1;33m(\u001b[0m\u001b[0mparam_set_number\u001b[0m\u001b[1;33m,\u001b[0m \u001b[1;36m20\u001b[0m \u001b[1;33m*\u001b[0m \u001b[1;36m10\u001b[0m\u001b[1;33m)\u001b[0m\u001b[1;33m)\u001b[0m\u001b[1;33m\u001b[0m\u001b[1;33m\u001b[0m\u001b[0m\n",
      "\u001b[1;31mKeyError\u001b[0m: 'accurate_ratio'"
     ]
    }
   ],
   "source": [
    "for sma_period in range(2 , 21):\n",
    "    for out_shift_period in range(-10, 0):\n",
    "        final_result_dict[\"sma_period\"].append(sma_period)\n",
    "        final_result_dict[\"out_shift_period\"].append(out_shift_period)\n",
    "        param_set = {\"sma_period\": sma_period, \"out_shift_period\": out_shift_period }\n",
    "        param_set_number = 0\n",
    "        symbol_test_data_list = []\n",
    "        for symbol in filter_symbol_list:\n",
    "            symbol_test_data = get_symbol_test_data(param_set, symbol)\n",
    "            symbol_test_data_list.append(symbol_test_data)\n",
    "\n",
    "            param_set_number += 1\n",
    "\n",
    "        correlation = test_data.loc[:, \"input\"].corr(test_data.loc[:, \"output\"])\n",
    "        final_result_dict[\"correlation\"].append(correlation)\n",
    "        \n",
    "        test_data.loc[:, \"output\"]\n",
    "        \n",
    "        product = (test_data.loc[:, \"input\"] * test_data.loc[:, \"output\"]) > 0\n",
    "        accurate_ratio = len(product[product>0])/len(product)\n",
    "        final_result_dict[\"accurate_ratio\"].append(accurate_ratio)\n",
    "        test_data.to_csv(os.path.join(\"test_data\", \"sma_period_{}_out_shift_period_{}\".format(sma_period, out_shift_period) + \".csv\"))\n",
    "        print(\"process: {}/{}\".format(param_set_number, 20 * 10))"
   ]
  },
  {
   "cell_type": "code",
   "execution_count": null,
   "metadata": {},
   "outputs": [],
   "source": []
  }
 ],
 "metadata": {
  "kernelspec": {
   "display_name": "Python [conda env:Anaconda3-py36]",
   "language": "python",
   "name": "conda-env-Anaconda3-py36-py"
  },
  "language_info": {
   "codemirror_mode": {
    "name": "ipython",
    "version": 3
   },
   "file_extension": ".py",
   "mimetype": "text/x-python",
   "name": "python",
   "nbconvert_exporter": "python",
   "pygments_lexer": "ipython3",
   "version": "3.6.7"
  }
 },
 "nbformat": 4,
 "nbformat_minor": 4
}
